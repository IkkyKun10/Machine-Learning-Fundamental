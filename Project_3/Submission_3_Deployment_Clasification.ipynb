{
  "nbformat": 4,
  "nbformat_minor": 0,
  "metadata": {
    "colab": {
      "name": "Submission 3 - Deployment Clasification.ipynb",
      "provenance": [],
      "collapsed_sections": []
    },
    "kernelspec": {
      "name": "python3",
      "display_name": "Python 3"
    },
    "language_info": {
      "name": "python"
    }
  },
  "cells": [
    {
      "cell_type": "code",
      "execution_count": 17,
      "metadata": {
        "id": "8O878qRSPaaf"
      },
      "outputs": [],
      "source": [
        "import tensorflow as tf\n",
        "from tensorflow import keras\n",
        "from keras.preprocessing.image import ImageDataGenerator\n",
        "\n",
        "from keras.layers import Input\n",
        "import numpy as np\n",
        "import matplotlib.pyplot as plt\n",
        "import pathlib\n",
        "\n",
        "import os\n",
        "import shutil\n",
        "import zipfile\n",
        "\n",
        "from tensorflow import feature_column\n",
        "from keras import layers\n",
        "from sklearn.model_selection import train_test_split\n"
      ]
    },
    {
      "cell_type": "code",
      "source": [
        "zip_data = \"/content/flower-recognition.zip\"\n",
        "zip_ref = zipfile.ZipFile(zip_data, \"r\")\n",
        "zip_ref.extractall('/content')\n",
        "zip_ref.close()"
      ],
      "metadata": {
        "id": "mvKIwt0mRwS9"
      },
      "execution_count": 18,
      "outputs": []
    },
    {
      "cell_type": "code",
      "source": [
        "dataset_dir = os.path.join(\"flowers\")\n",
        "labels = os.listdir(dataset_dir)\n",
        "\n",
        "labels"
      ],
      "metadata": {
        "colab": {
          "base_uri": "https://localhost:8080/"
        },
        "id": "JkLD1HIktPeG",
        "outputId": "d7779810-0136-4822-ade2-cb2fd82ee3fe"
      },
      "execution_count": 19,
      "outputs": [
        {
          "output_type": "execute_result",
          "data": {
            "text/plain": [
              "['tulip', 'dandelion', 'sunflower', 'daisy', 'rose']"
            ]
          },
          "metadata": {},
          "execution_count": 19
        }
      ]
    },
    {
      "cell_type": "code",
      "source": [
        "labels_and_items = {}\n",
        "\n",
        "for label in labels:\n",
        "  items = os.listdir(os.path.join(dataset_dir, label))\n",
        "  labels_and_items[label] = len(items)\n",
        "\n",
        "labels_and_items"
      ],
      "metadata": {
        "colab": {
          "base_uri": "https://localhost:8080/"
        },
        "id": "H8qXutz9tiHC",
        "outputId": "47eaecc4-9253-4fe5-f465-dae090ea3e59"
      },
      "execution_count": 20,
      "outputs": [
        {
          "output_type": "execute_result",
          "data": {
            "text/plain": [
              "{'daisy': 764, 'dandelion': 1052, 'rose': 784, 'sunflower': 733, 'tulip': 984}"
            ]
          },
          "metadata": {},
          "execution_count": 20
        }
      ]
    },
    {
      "cell_type": "code",
      "source": [
        "def delete_label(label):\n",
        "  shutil.rmtree(os.path.join(dataset_dir, label))\n",
        "  labels.remove(label)\n",
        "  labels_and_items.pop(label)"
      ],
      "metadata": {
        "id": "hVx9BwCMunMG"
      },
      "execution_count": 21,
      "outputs": []
    },
    {
      "cell_type": "code",
      "source": [
        "delete_label('dandelion')\n",
        "delete_label('tulip')"
      ],
      "metadata": {
        "id": "oA9MDLNeFvm1"
      },
      "execution_count": 22,
      "outputs": []
    },
    {
      "cell_type": "code",
      "source": [
        "labels_and_items"
      ],
      "metadata": {
        "colab": {
          "base_uri": "https://localhost:8080/"
        },
        "id": "NgqDBSU_F75q",
        "outputId": "7c386aa1-ed85-4e32-968b-4805a8c84142"
      },
      "execution_count": 23,
      "outputs": [
        {
          "output_type": "execute_result",
          "data": {
            "text/plain": [
              "{'daisy': 764, 'rose': 784, 'sunflower': 733}"
            ]
          },
          "metadata": {},
          "execution_count": 23
        }
      ]
    },
    {
      "cell_type": "code",
      "source": [
        "datagen = ImageDataGenerator(\n",
        "    rescale=1./255.0,\n",
        "    rotation_range=20,\n",
        "    horizontal_flip=True,\n",
        "    shear_range=0.2,\n",
        "    zoom_range=0.2,\n",
        "    fill_mode='nearest',\n",
        "    validation_split=0.2\n",
        ")"
      ],
      "metadata": {
        "id": "krpuN4LZvdM6"
      },
      "execution_count": 24,
      "outputs": []
    },
    {
      "cell_type": "code",
      "source": [
        "train_generator = datagen.flow_from_directory(\n",
        "    dataset_dir,\n",
        "    target_size=(150, 150),\n",
        "    batch_size=32,\n",
        "    class_mode='categorical',\n",
        "    subset='training'\n",
        ")\n",
        "    \n",
        "validation_generator = datagen.flow_from_directory(\n",
        "    dataset_dir,\n",
        "    target_size=(150, 150),\n",
        "    batch_size=32,\n",
        "    class_mode='categorical',\n",
        "    subset='validation'\n",
        ")"
      ],
      "metadata": {
        "colab": {
          "base_uri": "https://localhost:8080/"
        },
        "id": "nsgKF-IHwIWK",
        "outputId": "6d11d18e-c6e2-4bda-b9b7-2a34a004a27b"
      },
      "execution_count": 25,
      "outputs": [
        {
          "output_type": "stream",
          "name": "stdout",
          "text": [
            "Found 1827 images belonging to 3 classes.\n",
            "Found 454 images belonging to 3 classes.\n"
          ]
        }
      ]
    },
    {
      "cell_type": "code",
      "source": [
        "\n",
        "input_shape = (150, 150, 3)\n",
        "\n",
        "model = tf.keras.models.Sequential([\n",
        "                                    layers.Conv2D(32, (3, 3), activation='relu', input_shape=input_shape),\n",
        "                                    layers.MaxPooling2D(2, 2),\n",
        "                                    layers.Conv2D(64, (3, 3), activation='relu'),\n",
        "                                    layers.MaxPooling2D(2, 2),                                  \n",
        "                                    layers.Conv2D(128, (3, 3), activation='relu'),\n",
        "                                    layers.MaxPooling2D(2, 2),\n",
        "                                    layers.Flatten(),\n",
        "                                    layers.Dropout(0.2),\n",
        "                                    layers.Dense(256, activation='relu'),\n",
        "                                    layers.Dense(3, activation='softmax')\n",
        "])"
      ],
      "metadata": {
        "id": "GIuv9dNmww30"
      },
      "execution_count": 26,
      "outputs": []
    },
    {
      "cell_type": "code",
      "source": [
        "model.compile(\n",
        "    optimizer='adam',\n",
        "    loss='categorical_crossentropy',\n",
        "    metrics=['accuracy']\n",
        ")"
      ],
      "metadata": {
        "id": "Q5z8Adepxq1m"
      },
      "execution_count": 27,
      "outputs": []
    },
    {
      "cell_type": "code",
      "source": [
        "model.summary()"
      ],
      "metadata": {
        "colab": {
          "base_uri": "https://localhost:8080/"
        },
        "id": "O9GYsXWfyVEF",
        "outputId": "a6cf9627-2c5a-4379-acb6-fce949413462"
      },
      "execution_count": 28,
      "outputs": [
        {
          "output_type": "stream",
          "name": "stdout",
          "text": [
            "Model: \"sequential_1\"\n",
            "_________________________________________________________________\n",
            " Layer (type)                Output Shape              Param #   \n",
            "=================================================================\n",
            " conv2d_3 (Conv2D)           (None, 148, 148, 32)      896       \n",
            "                                                                 \n",
            " max_pooling2d_3 (MaxPooling  (None, 74, 74, 32)       0         \n",
            " 2D)                                                             \n",
            "                                                                 \n",
            " conv2d_4 (Conv2D)           (None, 72, 72, 64)        18496     \n",
            "                                                                 \n",
            " max_pooling2d_4 (MaxPooling  (None, 36, 36, 64)       0         \n",
            " 2D)                                                             \n",
            "                                                                 \n",
            " conv2d_5 (Conv2D)           (None, 34, 34, 128)       73856     \n",
            "                                                                 \n",
            " max_pooling2d_5 (MaxPooling  (None, 17, 17, 128)      0         \n",
            " 2D)                                                             \n",
            "                                                                 \n",
            " flatten_1 (Flatten)         (None, 36992)             0         \n",
            "                                                                 \n",
            " dropout_2 (Dropout)         (None, 36992)             0         \n",
            "                                                                 \n",
            " dense_3 (Dense)             (None, 256)               9470208   \n",
            "                                                                 \n",
            " dense_4 (Dense)             (None, 3)                 771       \n",
            "                                                                 \n",
            "=================================================================\n",
            "Total params: 9,564,227\n",
            "Trainable params: 9,564,227\n",
            "Non-trainable params: 0\n",
            "_________________________________________________________________\n"
          ]
        }
      ]
    },
    {
      "cell_type": "code",
      "source": [
        "class MyCallback(keras.callbacks.Callback):\n",
        "  def on_epoch_end(self, epoch, logs={}):\n",
        "    if logs.get(\"accuracy\") >= 0.8500 and logs.get(\"val_accuracy\") >= 0.8500:\n",
        "      print(\"Accuracy & Val accuracy was over 85%. Stop training...\")\n",
        "      self.model.stop_training = True\n",
        "\n",
        "callbacks = MyCallback()"
      ],
      "metadata": {
        "id": "iepgrzI6yj1M"
      },
      "execution_count": 29,
      "outputs": []
    },
    {
      "cell_type": "code",
      "source": [
        "hist = model.fit(\n",
        "    train_generator,\n",
        "    epochs=50,\n",
        "    validation_data=validation_generator,\n",
        "    callbacks=[callbacks]\n",
        ")"
      ],
      "metadata": {
        "colab": {
          "base_uri": "https://localhost:8080/"
        },
        "id": "6dyzs8P0zEG9",
        "outputId": "009e883c-0c29-4be9-e2db-ddce80619c9f"
      },
      "execution_count": 30,
      "outputs": [
        {
          "output_type": "stream",
          "name": "stdout",
          "text": [
            "Epoch 1/50\n",
            "58/58 [==============================] - 65s 1s/step - loss: 0.8264 - accuracy: 0.6278 - val_loss: 0.6236 - val_accuracy: 0.7533\n",
            "Epoch 2/50\n",
            "58/58 [==============================] - 64s 1s/step - loss: 0.5853 - accuracy: 0.7783 - val_loss: 0.5890 - val_accuracy: 0.7775\n",
            "Epoch 3/50\n",
            "58/58 [==============================] - 64s 1s/step - loss: 0.5297 - accuracy: 0.7871 - val_loss: 0.5496 - val_accuracy: 0.7974\n",
            "Epoch 4/50\n",
            "58/58 [==============================] - 64s 1s/step - loss: 0.4801 - accuracy: 0.8155 - val_loss: 0.5504 - val_accuracy: 0.7841\n",
            "Epoch 5/50\n",
            "58/58 [==============================] - 65s 1s/step - loss: 0.4658 - accuracy: 0.8161 - val_loss: 0.5987 - val_accuracy: 0.7819\n",
            "Epoch 6/50\n",
            "58/58 [==============================] - 65s 1s/step - loss: 0.4203 - accuracy: 0.8342 - val_loss: 0.5230 - val_accuracy: 0.7952\n",
            "Epoch 7/50\n",
            "58/58 [==============================] - 65s 1s/step - loss: 0.3998 - accuracy: 0.8462 - val_loss: 0.4797 - val_accuracy: 0.8128\n",
            "Epoch 8/50\n",
            "58/58 [==============================] - 64s 1s/step - loss: 0.3593 - accuracy: 0.8539 - val_loss: 0.5821 - val_accuracy: 0.7731\n",
            "Epoch 9/50\n",
            "58/58 [==============================] - 64s 1s/step - loss: 0.3551 - accuracy: 0.8588 - val_loss: 0.5094 - val_accuracy: 0.8260\n",
            "Epoch 10/50\n",
            "58/58 [==============================] - 64s 1s/step - loss: 0.3263 - accuracy: 0.8621 - val_loss: 0.5123 - val_accuracy: 0.8238\n",
            "Epoch 11/50\n",
            "58/58 [==============================] - 64s 1s/step - loss: 0.3093 - accuracy: 0.8801 - val_loss: 0.5723 - val_accuracy: 0.8128\n",
            "Epoch 12/50\n",
            "58/58 [==============================] - 64s 1s/step - loss: 0.2972 - accuracy: 0.8779 - val_loss: 0.6091 - val_accuracy: 0.8062\n",
            "Epoch 13/50\n",
            "58/58 [==============================] - 64s 1s/step - loss: 0.3570 - accuracy: 0.8560 - val_loss: 0.6754 - val_accuracy: 0.7643\n",
            "Epoch 14/50\n",
            "58/58 [==============================] - 64s 1s/step - loss: 0.2896 - accuracy: 0.8845 - val_loss: 0.8073 - val_accuracy: 0.7907\n",
            "Epoch 15/50\n",
            "58/58 [==============================] - 64s 1s/step - loss: 0.2586 - accuracy: 0.9004 - val_loss: 0.6101 - val_accuracy: 0.8348\n",
            "Epoch 16/50\n",
            "58/58 [==============================] - 64s 1s/step - loss: 0.2223 - accuracy: 0.9146 - val_loss: 0.6621 - val_accuracy: 0.8128\n",
            "Epoch 17/50\n",
            "58/58 [==============================] - 64s 1s/step - loss: 0.2223 - accuracy: 0.9201 - val_loss: 0.4763 - val_accuracy: 0.8370\n",
            "Epoch 18/50\n",
            "58/58 [==============================] - ETA: 0s - loss: 0.1896 - accuracy: 0.9310Accuracy & Val accuracy was over 85%. Stop training...\n",
            "58/58 [==============================] - 64s 1s/step - loss: 0.1896 - accuracy: 0.9310 - val_loss: 0.4908 - val_accuracy: 0.8568\n"
          ]
        }
      ]
    },
    {
      "cell_type": "code",
      "source": [
        "plt.plot(hist.history[\"accuracy\"])\n",
        "plt.plot(hist.history[\"val_accuracy\"])\n",
        "plt.title(\"Akurasi Model\")\n",
        "plt.ylabel(\"accuracy\")\n",
        "plt.xlabel(\"epoch\")\n",
        "plt.legend([\"train\", \"test\"], loc=\"upper left\")\n",
        "plt.show()"
      ],
      "metadata": {
        "colab": {
          "base_uri": "https://localhost:8080/",
          "height": 295
        },
        "id": "wlkggvtd4mWI",
        "outputId": "1ef2d4fc-508a-45c6-e1b0-8c6c0cd5f0d3"
      },
      "execution_count": 31,
      "outputs": [
        {
          "output_type": "display_data",
          "data": {
            "text/plain": [
              "<Figure size 432x288 with 1 Axes>"
            ],
            "image/png": "[encoded data removed]"
          },
          "metadata": {
            "needs_background": "light"
          }
        }
      ]
    },
    {
      "cell_type": "code",
      "source": [
        "plt.plot(hist.history[\"loss\"])\n",
        "plt.plot(hist.history[\"val_loss\"])\n",
        "plt.title(\"Loss Model\")\n",
        "plt.ylabel(\"loss\")\n",
        "plt.xlabel(\"epoch\")\n",
        "plt.legend([\"train\", \"test\"], loc=\"upper left\")\n",
        "plt.show()"
      ],
      "metadata": {
        "colab": {
          "base_uri": "https://localhost:8080/",
          "height": 295
        },
        "id": "qxx3ZnvE4o03",
        "outputId": "8e1e32f8-4de9-4c76-96ed-dab79c0ccd67"
      },
      "execution_count": 32,
      "outputs": [
        {
          "output_type": "display_data",
          "data": {
            "text/plain": [
              "<Figure size 432x288 with 1 Axes>"
            ],
            "image/png": "[encoded data removed]"
          },
          "metadata": {
            "needs_background": "light"
          }
        }
      ]
    },
    {
      "cell_type": "code",
      "source": [
        "converter = tf.lite.TFLiteConverter.from_keras_model(model)\n",
        "tflite_model = converter.convert()"
      ],
      "metadata": {
        "colab": {
          "base_uri": "https://localhost:8080/"
        },
        "id": "nOOGPun84tmd",
        "outputId": "ef2bdcd3-2727-4e16-99b3-520d9d162907"
      },
      "execution_count": 33,
      "outputs": [
        {
          "output_type": "stream",
          "name": "stdout",
          "text": [
            "INFO:tensorflow:Assets written to: /tmp/tmp7feu6ewi/assets\n"
          ]
        },
        {
          "output_type": "stream",
          "name": "stderr",
          "text": [
            "WARNING:absl:Buffer deduplication procedure will be skipped when flatbuffer library is not properly loaded\n"
          ]
        }
      ]
    },
    {
      "cell_type": "code",
      "source": [
        "with tf.io.gfile.GFile(\"model.tflite\", \"wb\") as f:\n",
        "  f.write(tflite_model)"
      ],
      "metadata": {
        "id": "FCBb40wB4wL3"
      },
      "execution_count": 34,
      "outputs": []
    }
  ]
}